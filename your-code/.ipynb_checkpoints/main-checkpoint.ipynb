{
 "cells": [
  {
   "cell_type": "markdown",
   "metadata": {},
   "source": [
    "# Before your start:\n",
    "- Read the README.md file\n",
    "- Comment as much as you can and use the resources (README.md file)\n",
    "- Happy learning!"
   ]
  },
  {
   "cell_type": "code",
   "execution_count": 1,
   "metadata": {},
   "outputs": [],
   "source": [
    "# Run this code:\n",
    "\n",
    "%matplotlib inline\n",
    "\n",
    "import matplotlib.pyplot as plt"
   ]
  },
  {
   "cell_type": "code",
   "execution_count": 2,
   "metadata": {},
   "outputs": [],
   "source": [
    "# Import numpy and pandas:\n",
    "\n",
    "import numpy as np\n",
    "import pandas as pd"
   ]
  },
  {
   "cell_type": "markdown",
   "metadata": {},
   "source": [
    "# Challenge 1 - Reading and Standardizing the Data\n",
    "\n",
    "In this challenge we will work with image data and reduce the dimensions of the data to create a 2 dimensional plot. While we have not worked much with image data before, it can be represented as a numpy array where each pixel is assigned a numeric value. In this lesson, we will look at a dataset of cats and a dataset of dogs and see whether reducing them to two dimensions allows us to see if the data is separable. We will start by loading and processing the data. Run the cell below to load the two csv files and convert them into numpy arrays."
   ]
  },
  {
   "cell_type": "code",
   "execution_count": 3,
   "metadata": {},
   "outputs": [],
   "source": [
    "# Run this code\n",
    "\n",
    "cats = np.array(pd.read_csv(\"https://raw.githubusercontent.com/bioramble/pca/master/cat.csv\", header=None))\n",
    "dogs = np.array(pd.read_csv(\"https://raw.githubusercontent.com/bioramble/pca/master/dog.csv\", header=None))"
   ]
  },
  {
   "cell_type": "markdown",
   "metadata": {},
   "source": [
    "Next, we'll examine the shape of both the cats and the dogs arrays. Print out both shapes below."
   ]
  },
  {
   "cell_type": "code",
   "execution_count": 4,
   "metadata": {},
   "outputs": [
    {
     "name": "stdout",
     "output_type": "stream",
     "text": [
      "Cats: (4096, 80)\n",
      "Dogs: (4096, 80)\n"
     ]
    }
   ],
   "source": [
    "# Your code here:\n",
    "\n",
    "print(f'Cats: {cats.shape}')\n",
    "print(f'Dogs: {dogs.shape}')"
   ]
  },
  {
   "cell_type": "markdown",
   "metadata": {},
   "source": [
    "What this means is that both arrays contain 80 images each (the number of columns). Each image is comprised of 64x64 pixels (so a total of 4096 pixels per image). The images have been flattened such that all 4096 are in a single row.\n",
    "\n",
    "Print out column 0 of the cats array to see what the pixels values look like."
   ]
  },
  {
   "cell_type": "code",
   "execution_count": 22,
   "metadata": {},
   "outputs": [
    {
     "data": {
      "text/plain": [
       "array([64, 64, 64, ..., 64, 64, 61])"
      ]
     },
     "execution_count": 22,
     "metadata": {},
     "output_type": "execute_result"
    }
   ],
   "source": [
    "# Your code here:\n",
    "\n",
    "cats[:,0]"
   ]
  },
  {
   "cell_type": "markdown",
   "metadata": {},
   "source": [
    "Using `matplotlib` we can plot a single cat or a single dog. We do this by reshaping the vector back to a 64x64 image and then using the `imshow` function.\n",
    "\n",
    "Run the code below to look at the first dog and the first cat."
   ]
  },
  {
   "cell_type": "code",
   "execution_count": 23,
   "metadata": {},
   "outputs": [
    {
     "data": {
      "text/plain": [
       "<matplotlib.image.AxesImage at 0x7fcca26d16d0>"
      ]
     },
     "execution_count": 23,
     "metadata": {},
     "output_type": "execute_result"
    },
    {
     "data": {
      "image/png": "[encoded data removed]",
      "text/plain": [
       "<Figure size 432x288 with 1 Axes>"
      ]
     },
     "metadata": {
      "needs_background": "light"
     },
     "output_type": "display_data"
    }
   ],
   "source": [
    "# Run this code:\n",
    "\n",
    "fig, ax = plt.subplots()\n",
    "ax.imshow(cats[:,0].reshape(64, 64).T, cmap=plt.cm.bone, interpolation='nearest') "
   ]
  },
  {
   "cell_type": "code",
   "execution_count": 34,
   "metadata": {},
   "outputs": [
    {
     "data": {
      "text/plain": [
       "<matplotlib.image.AxesImage at 0x7fcca27ced90>"
      ]
     },
     "execution_count": 34,
     "metadata": {},
     "output_type": "execute_result"
    },
    {
     "data": {
      "image/png": "[encoded data removed]",
      "text/plain": [
       "<Figure size 432x288 with 1 Axes>"
      ]
     },
     "metadata": {
      "needs_background": "light"
     },
     "output_type": "display_data"
    }
   ],
   "source": [
    "# Run this code:\n",
    "\n",
    "fig, ax = plt.subplots()\n",
    "ax.imshow(dogs[:,0].reshape(64, 64).T, cmap=plt.cm.bone, interpolation='nearest') "
   ]
  },
  {
   "cell_type": "markdown",
   "metadata": {},
   "source": [
    "Next, we would like to create a standardization function. This function will find the mean and standard deviation of each image. We subtract the mean from each pixel and divide each pixel by the standard deviation. Write the function below.\n",
    "\n",
    "Hint: To find the mean and standard deviation of each image, use `numpy`'s version of mean and stadnard deviation and use `axis=0`."
   ]
  },
  {
   "cell_type": "code",
   "execution_count": 148,
   "metadata": {},
   "outputs": [],
   "source": [
    "def standardize(x):\n",
    "    #This function takes as input a numpy array and returns a stadardized numpy array of the same dimensions.\n",
    "    #Sample input: np.array([[1,2,3],[4,5,6]])\n",
    "    #Sample output: np.array([[-1,-1,-1],[1,1,1]])\n",
    "    \n",
    "    # Your code here:\n",
    "    \n",
    "    stadnp = []\n",
    "    \n",
    "    for a in x:\n",
    "        stadnp.append(list((a-np.mean(x, axis=0))/np.std(x, axis=0)))\n",
    "    \n",
    "    return np.array(stadnp)\n",
    "        "
   ]
  },
  {
   "cell_type": "code",
   "execution_count": 149,
   "metadata": {},
   "outputs": [
    {
     "data": {
      "text/plain": [
       "array([[-1., -1., -1.],\n",
       "       [ 1.,  1.,  1.]])"
      ]
     },
     "execution_count": 149,
     "metadata": {},
     "output_type": "execute_result"
    }
   ],
   "source": [
    "standardize(np.array([[1,2,3],[4,5,6]]))"
   ]
  },
  {
   "cell_type": "markdown",
   "metadata": {},
   "source": [
    "Now, use the `np.concatenate` function to combine the cats and dogs arrays. Use `axis=1` to combine the two correctly. Make sure to put dogs first."
   ]
  },
  {
   "cell_type": "code",
   "execution_count": 150,
   "metadata": {},
   "outputs": [],
   "source": [
    "concat = np.concatenate((cats, dogs), axis=1)"
   ]
  },
  {
   "cell_type": "code",
   "execution_count": 151,
   "metadata": {},
   "outputs": [
    {
     "data": {
      "text/plain": [
       "(4096, 160)"
      ]
     },
     "execution_count": 151,
     "metadata": {},
     "output_type": "execute_result"
    }
   ],
   "source": [
    "concat.shape"
   ]
  },
  {
   "cell_type": "markdown",
   "metadata": {},
   "source": [
    "Standardize the concatenated array below."
   ]
  },
  {
   "cell_type": "code",
   "execution_count": 152,
   "metadata": {},
   "outputs": [],
   "source": [
    "# Your code here:\n",
    "concatst = standardize(concat)"
   ]
  },
  {
   "cell_type": "code",
   "execution_count": 153,
   "metadata": {},
   "outputs": [
    {
     "data": {
      "text/plain": [
       "(4096, 160)"
      ]
     },
     "execution_count": 153,
     "metadata": {},
     "output_type": "execute_result"
    }
   ],
   "source": [
    "concatst.shape"
   ]
  },
  {
   "cell_type": "markdown",
   "metadata": {},
   "source": [
    "# Challenge 2 - Using PCA\n",
    "\n",
    "Now that we have created a standardized matrix of cats and dogs, we'll find the two most important components in the data.\n",
    "\n",
    "Load the `PCA` function from `statsmodels` (read about this function [here](https://www.statsmodels.org/dev/generated/statsmodels.multivariate.pca.PCA.html)) and apply the function to our standarized data. Create a PCA model with two components."
   ]
  },
  {
   "cell_type": "code",
   "execution_count": 54,
   "metadata": {},
   "outputs": [],
   "source": [
    "from sklearn import decomposition"
   ]
  },
  {
   "cell_type": "code",
   "execution_count": 56,
   "metadata": {},
   "outputs": [],
   "source": [
    "pca = decomposition.PCA(n_components=2)"
   ]
  },
  {
   "cell_type": "code",
   "execution_count": 154,
   "metadata": {},
   "outputs": [
    {
     "data": {
      "text/plain": [
       "PCA(n_components=2)"
      ]
     },
     "execution_count": 154,
     "metadata": {},
     "output_type": "execute_result"
    }
   ],
   "source": [
    "pca.fit(concatst)"
   ]
  },
  {
   "cell_type": "code",
   "execution_count": 155,
   "metadata": {},
   "outputs": [
    {
     "data": {
      "text/plain": [
       "(2, 160)"
      ]
     },
     "execution_count": 155,
     "metadata": {},
     "output_type": "execute_result"
    }
   ],
   "source": [
    "pca.components_.shape"
   ]
  },
  {
   "cell_type": "code",
   "execution_count": 156,
   "metadata": {},
   "outputs": [
    {
     "data": {
      "text/html": [
       "<div>\n",
       "<style scoped>\n",
       "    .dataframe tbody tr th:only-of-type {\n",
       "        vertical-align: middle;\n",
       "    }\n",
       "\n",
       "    .dataframe tbody tr th {\n",
       "        vertical-align: top;\n",
       "    }\n",
       "\n",
       "    .dataframe thead th {\n",
       "        text-align: right;\n",
       "    }\n",
       "</style>\n",
       "<table border=\"1\" class=\"dataframe\">\n",
       "  <thead>\n",
       "    <tr style=\"text-align: right;\">\n",
       "      <th></th>\n",
       "      <th>0</th>\n",
       "      <th>1</th>\n",
       "      <th>2</th>\n",
       "      <th>3</th>\n",
       "      <th>4</th>\n",
       "      <th>5</th>\n",
       "      <th>6</th>\n",
       "      <th>7</th>\n",
       "      <th>8</th>\n",
       "      <th>9</th>\n",
       "      <th>...</th>\n",
       "      <th>150</th>\n",
       "      <th>151</th>\n",
       "      <th>152</th>\n",
       "      <th>153</th>\n",
       "      <th>154</th>\n",
       "      <th>155</th>\n",
       "      <th>156</th>\n",
       "      <th>157</th>\n",
       "      <th>158</th>\n",
       "      <th>159</th>\n",
       "    </tr>\n",
       "  </thead>\n",
       "  <tbody>\n",
       "    <tr>\n",
       "      <th>pc1</th>\n",
       "      <td>-0.046346</td>\n",
       "      <td>-0.147109</td>\n",
       "      <td>0.142592</td>\n",
       "      <td>0.121398</td>\n",
       "      <td>-0.089345</td>\n",
       "      <td>-0.061780</td>\n",
       "      <td>-0.122576</td>\n",
       "      <td>-0.015435</td>\n",
       "      <td>-0.125413</td>\n",
       "      <td>-0.062294</td>\n",
       "      <td>...</td>\n",
       "      <td>-0.031405</td>\n",
       "      <td>-0.002983</td>\n",
       "      <td>0.078211</td>\n",
       "      <td>-0.062393</td>\n",
       "      <td>0.030409</td>\n",
       "      <td>0.118031</td>\n",
       "      <td>0.098377</td>\n",
       "      <td>-0.024517</td>\n",
       "      <td>-0.009923</td>\n",
       "      <td>0.115493</td>\n",
       "    </tr>\n",
       "    <tr>\n",
       "      <th>pc2</th>\n",
       "      <td>-0.052566</td>\n",
       "      <td>-0.003772</td>\n",
       "      <td>-0.013874</td>\n",
       "      <td>0.004939</td>\n",
       "      <td>-0.064715</td>\n",
       "      <td>-0.121726</td>\n",
       "      <td>0.010968</td>\n",
       "      <td>-0.062799</td>\n",
       "      <td>-0.028167</td>\n",
       "      <td>-0.063672</td>\n",
       "      <td>...</td>\n",
       "      <td>0.043478</td>\n",
       "      <td>0.118029</td>\n",
       "      <td>0.093610</td>\n",
       "      <td>0.089120</td>\n",
       "      <td>-0.092544</td>\n",
       "      <td>-0.021719</td>\n",
       "      <td>0.032050</td>\n",
       "      <td>0.128025</td>\n",
       "      <td>0.122693</td>\n",
       "      <td>-0.009900</td>\n",
       "    </tr>\n",
       "  </tbody>\n",
       "</table>\n",
       "<p>2 rows × 160 columns</p>\n",
       "</div>"
      ],
      "text/plain": [
       "          0         1         2         3         4         5         6    \\\n",
       "pc1 -0.046346 -0.147109  0.142592  0.121398 -0.089345 -0.061780 -0.122576   \n",
       "pc2 -0.052566 -0.003772 -0.013874  0.004939 -0.064715 -0.121726  0.010968   \n",
       "\n",
       "          7         8         9    ...       150       151       152  \\\n",
       "pc1 -0.015435 -0.125413 -0.062294  ... -0.031405 -0.002983  0.078211   \n",
       "pc2 -0.062799 -0.028167 -0.063672  ...  0.043478  0.118029  0.093610   \n",
       "\n",
       "          153       154       155       156       157       158       159  \n",
       "pc1 -0.062393  0.030409  0.118031  0.098377 -0.024517 -0.009923  0.115493  \n",
       "pc2  0.089120 -0.092544 -0.021719  0.032050  0.128025  0.122693 -0.009900  \n",
       "\n",
       "[2 rows x 160 columns]"
      ]
     },
     "execution_count": 156,
     "metadata": {},
     "output_type": "execute_result"
    }
   ],
   "source": [
    "pd.DataFrame(pca.components_, index=['pc1', 'pc2'])"
   ]
  },
  {
   "cell_type": "code",
   "execution_count": 162,
   "metadata": {},
   "outputs": [
    {
     "data": {
      "text/plain": [
       "array([[10.05797014, -9.71855532],\n",
       "       [10.20444589, -9.43043243],\n",
       "       [10.21546541, -9.60424395],\n",
       "       ...,\n",
       "       [ 1.78943627, -3.15286289],\n",
       "       [ 1.55785247, -3.08694541],\n",
       "       [ 1.29789362, -3.19830506]])"
      ]
     },
     "execution_count": 162,
     "metadata": {},
     "output_type": "execute_result"
    }
   ],
   "source": [
    "pca.transform(concatst)"
   ]
  },
  {
   "cell_type": "code",
   "execution_count": 166,
   "metadata": {},
   "outputs": [
    {
     "data": {
      "text/plain": [
       "(4096, 2)"
      ]
     },
     "execution_count": 166,
     "metadata": {},
     "output_type": "execute_result"
    }
   ],
   "source": [
    "pca.transform(concatst).shape"
   ]
  },
  {
   "cell_type": "markdown",
   "metadata": {},
   "source": [
    "Use `numpy` to find to transpose the standardized pet array. This will help us compute the projection."
   ]
  },
  {
   "cell_type": "code",
   "execution_count": 164,
   "metadata": {},
   "outputs": [
    {
     "data": {
      "text/plain": [
       "(160, 4096)"
      ]
     },
     "execution_count": 164,
     "metadata": {},
     "output_type": "execute_result"
    }
   ],
   "source": [
    "concatst.T.shape"
   ]
  },
  {
   "cell_type": "code",
   "execution_count": 67,
   "metadata": {
    "scrolled": true
   },
   "outputs": [
    {
     "data": {
      "text/plain": [
       "array([[ 0.69779743, -1.0571059 ,  2.4849192 , ..., -1.50889338,\n",
       "        -0.80113976,  1.41891885],\n",
       "       [ 0.62150721, -1.14024927,  2.59928216, ..., -1.46259241,\n",
       "        -0.77313793,  1.48638901],\n",
       "       [ 0.61634826, -1.11907951,  2.55496767, ..., -1.44346214,\n",
       "        -0.76321054,  1.46093924],\n",
       "       ...,\n",
       "       [ 0.41982259, -0.2332722 ,  0.7126687 , ..., -0.66731767,\n",
       "        -0.36123725,  0.40254966],\n",
       "       [ 0.41956951, -0.21872375,  0.68424956, ..., -0.65831156,\n",
       "        -0.35669919,  0.38616748],\n",
       "       [ 0.43909237, -0.1938155 ,  0.64792872, ..., -0.66799142,\n",
       "        -0.36277595,  0.36483355]])"
      ]
     },
     "execution_count": 67,
     "metadata": {},
     "output_type": "execute_result"
    }
   ],
   "source": [
    "# Your code here:\n",
    "\n",
    "np.dot(pca.transform(concatst), pca.components_)"
   ]
  },
  {
   "cell_type": "markdown",
   "metadata": {},
   "source": [
    "Find the dot product of the transposed standardized pet matrix and the `factors` of the `PCA` model found above. This will be the projection onto 2 dimensions. This means that each cat and dog image will now only have two columns instead of 4096."
   ]
  },
  {
   "cell_type": "code",
   "execution_count": 76,
   "metadata": {},
   "outputs": [
    {
     "data": {
      "text/plain": [
       "array([[-2.94547544e+03,  7.45194427e+03],\n",
       "       [-1.16471645e+04,  4.16123230e+02],\n",
       "       [ 2.08058343e+04,  3.79779433e+03],\n",
       "       [ 8.27174102e+03,  2.64278249e+02],\n",
       "       [-6.62781024e+03,  6.29654476e+03],\n",
       "       [-5.84767499e+03,  7.93334152e+03],\n",
       "       [-9.61913572e+03,  8.26032169e+02],\n",
       "       [-8.36994220e+02,  3.06309656e+03],\n",
       "       [-1.21539430e+04,  4.51000560e+03],\n",
       "       [-7.07098231e+03,  7.47142929e+03],\n",
       "       [-1.31170737e+02,  2.13290590e+03],\n",
       "       [ 1.23761455e+03,  2.88158460e+03],\n",
       "       [-1.49649028e+04,  3.99437687e+03],\n",
       "       [-6.65254901e+03,  4.93178685e+03],\n",
       "       [ 7.22310234e+03,  4.72242299e+03],\n",
       "       [-4.89629961e+03,  3.34626787e+03],\n",
       "       [ 6.48547319e+03,  2.72422246e+03],\n",
       "       [-7.41580970e+03,  2.67967281e+03],\n",
       "       [ 1.01587478e+04,  1.40601719e+03],\n",
       "       [-1.20900471e+04,  2.81347770e+03],\n",
       "       [ 3.40834558e+03,  4.26299227e+03],\n",
       "       [-1.20974571e+04, -3.10370042e+02],\n",
       "       [-9.42651394e+03, -2.67451595e+03],\n",
       "       [-8.53623461e+03, -4.97973873e+03],\n",
       "       [ 1.66913123e+04,  2.68514725e+03],\n",
       "       [-1.56580975e+03, -3.97029918e+03],\n",
       "       [-6.65476982e+03,  5.46321071e+03],\n",
       "       [-9.55602791e+03, -3.00605207e+03],\n",
       "       [ 4.54235556e+03,  1.15488801e+03],\n",
       "       [-4.16279897e+03,  2.02141983e+03],\n",
       "       [-1.35056071e+02,  3.23626978e+03],\n",
       "       [ 5.09829814e+03,  8.36346667e+03],\n",
       "       [-4.53366143e+03,  7.46008231e+03],\n",
       "       [ 2.14641641e+04,  4.96442412e+03],\n",
       "       [-1.00715880e+04,  1.10234985e+03],\n",
       "       [-1.71052586e+03, -2.43047356e+02],\n",
       "       [ 1.47372464e+04,  1.32736702e+03],\n",
       "       [-1.02149981e+04,  3.80338498e+03],\n",
       "       [-4.95447980e+03, -2.83093926e+03],\n",
       "       [-2.42207473e+03,  3.12348821e+03],\n",
       "       [-1.17994487e+03,  5.58936163e+03],\n",
       "       [-8.66044262e+03,  9.95824933e+03],\n",
       "       [-1.46257471e+04, -1.99294964e+03],\n",
       "       [-6.92326639e+03, -1.88825159e+03],\n",
       "       [-1.80738439e+04, -3.52836007e+03],\n",
       "       [ 4.11630845e+03,  2.56776930e+03],\n",
       "       [ 4.18489356e+03,  7.34622769e+02],\n",
       "       [ 8.97578153e+03,  4.47724689e+03],\n",
       "       [-1.51713012e+04,  7.46042038e+02],\n",
       "       [ 2.37042629e+02,  2.73734681e+03],\n",
       "       [-6.09433670e+03,  7.61755357e+03],\n",
       "       [-2.64900513e+03, -9.59439229e+02],\n",
       "       [-1.06767032e+04,  6.46273157e+03],\n",
       "       [-9.96806300e+03,  6.83358287e+03],\n",
       "       [ 3.16641231e+03,  5.01570754e+03],\n",
       "       [-7.17294973e+03,  5.05914233e+03],\n",
       "       [-1.28801109e+04,  1.15895371e+04],\n",
       "       [-4.10262666e+03, -8.51452509e+02],\n",
       "       [ 7.32668050e+03,  5.65897391e+03],\n",
       "       [-5.03375153e+03, -4.01583727e+03],\n",
       "       [ 2.62253885e+02,  1.24579423e+03],\n",
       "       [-3.17259546e+03,  2.74284392e+03],\n",
       "       [-9.56784694e+03,  2.43869097e+03],\n",
       "       [-1.03310824e+04, -2.03609004e+02],\n",
       "       [ 6.50254725e+03,  1.05714844e+03],\n",
       "       [-1.65037600e+03,  3.92907731e+03],\n",
       "       [ 1.47621935e+04,  2.20489663e+03],\n",
       "       [-6.10602718e+02,  3.13315314e+03],\n",
       "       [ 3.09990861e+03,  2.14059645e+03],\n",
       "       [ 7.79854628e+03, -2.89901043e+01],\n",
       "       [ 3.23012224e+03,  1.83085296e+03],\n",
       "       [-8.37938304e+03, -1.86141001e+02],\n",
       "       [-1.57328472e+03,  2.90253677e+03],\n",
       "       [ 9.88174554e+02,  9.87449412e+02],\n",
       "       [ 2.98308556e+03,  1.29496379e+03],\n",
       "       [-4.94935250e+03, -1.56765979e+03],\n",
       "       [-7.98170737e+03, -3.12685139e+03],\n",
       "       [-7.56470718e+03, -4.37378350e+02],\n",
       "       [ 3.62702248e+03,  1.27761870e+03],\n",
       "       [-1.30115903e+03,  2.97993503e+03],\n",
       "       [ 1.13179893e+04,  4.26612287e+03],\n",
       "       [ 1.00545155e+04, -3.35980195e+03],\n",
       "       [-1.79682115e+03, -4.59960502e+02],\n",
       "       [ 5.75139421e+02, -4.09981752e+03],\n",
       "       [ 7.19326183e+03,  2.29898715e+03],\n",
       "       [-4.10058183e+03, -1.02362090e+04],\n",
       "       [ 4.52733407e+03, -1.33584872e+03],\n",
       "       [ 3.55188567e+03, -8.16441004e+03],\n",
       "       [ 2.52479408e+03, -5.59108470e+03],\n",
       "       [ 1.11037020e+04,  1.88120579e+03],\n",
       "       [-3.97333716e+02, -5.63385039e+03],\n",
       "       [ 3.28537225e+03, -9.02468181e+02],\n",
       "       [ 1.20474562e+03, -6.38249016e+02],\n",
       "       [ 4.62360938e+02, -7.99908099e+01],\n",
       "       [ 5.44505214e+03, -5.45637282e+03],\n",
       "       [ 3.28469353e+03, -3.44127190e+03],\n",
       "       [ 3.97296248e+03, -1.24750270e+03],\n",
       "       [ 9.53156888e+03, -3.06858393e+03],\n",
       "       [ 3.36887684e+03, -2.74820139e+03],\n",
       "       [ 4.14743608e+03, -9.62725051e+03],\n",
       "       [-1.01690345e+03, -4.88758560e+03],\n",
       "       [-4.35207987e+01, -8.94934266e+03],\n",
       "       [ 2.59813323e+03, -1.34526707e+03],\n",
       "       [ 2.60416861e+03, -9.50521054e+03],\n",
       "       [ 7.41401920e+03, -5.94857073e+03],\n",
       "       [-1.42281337e+03, -1.08680559e+04],\n",
       "       [-4.59866050e+02, -3.47633284e+03],\n",
       "       [ 5.29422917e+01, -2.19123785e+03],\n",
       "       [ 4.11916935e+03, -1.22668032e+04],\n",
       "       [ 2.26892020e+03, -3.52053277e+03],\n",
       "       [ 1.23974371e+03, -3.82590242e+03],\n",
       "       [ 1.29243918e+03, -3.16684580e+03],\n",
       "       [ 8.05450103e+03, -5.72551573e+03],\n",
       "       [ 3.10244953e+03, -6.77099766e+03],\n",
       "       [-4.08170447e+03, -1.10942357e+04],\n",
       "       [ 4.14565972e+03, -5.78905678e+02],\n",
       "       [-2.64232656e+03, -3.55170837e+03],\n",
       "       [-3.56178674e+02, -5.50523876e+03],\n",
       "       [-3.21410904e+03, -8.41554105e+03],\n",
       "       [ 8.03480344e+03, -3.53547924e+03],\n",
       "       [ 3.76776949e+03, -6.85411286e+03],\n",
       "       [ 1.68795384e+03,  3.46456006e+03],\n",
       "       [-3.08394850e+03, -5.04428462e+03],\n",
       "       [ 2.70938811e+03, -4.98537484e+03],\n",
       "       [-2.33403350e+03, -1.27904529e+03],\n",
       "       [ 6.04254172e+03,  4.87641164e+03],\n",
       "       [ 9.92828427e+03,  6.88199107e+03],\n",
       "       [ 7.84639948e+02, -4.79115814e+02],\n",
       "       [ 4.92302260e+03,  5.49086589e+03],\n",
       "       [-5.37321112e+03, -7.26392869e+03],\n",
       "       [ 7.37489022e+03,  9.86126432e+02],\n",
       "       [ 9.73854491e+03,  5.88723520e+03],\n",
       "       [ 1.99354651e+03,  3.06643051e+03],\n",
       "       [-6.13944767e+03, -6.02264609e+03],\n",
       "       [-4.23788995e+03,  1.22287654e+03],\n",
       "       [-4.05123924e+03,  3.55212572e+03],\n",
       "       [ 6.53956471e+03,  1.59390768e+03],\n",
       "       [ 3.30158821e+03,  2.82363600e+03],\n",
       "       [-4.85129460e+03, -6.22533383e+03],\n",
       "       [-1.29142571e+01, -3.97613626e+03],\n",
       "       [ 1.10044311e+03, -6.25021455e+03],\n",
       "       [ 6.33063611e+03,  3.29733896e+03],\n",
       "       [ 9.12567230e+03,  4.39180531e+03],\n",
       "       [-3.61057912e+03,  2.17499590e+03],\n",
       "       [-3.84960814e+03,  3.78730508e+02],\n",
       "       [ 7.15928365e+03,  1.98463998e+03],\n",
       "       [ 2.75881724e+03,  6.00030505e+03],\n",
       "       [-1.11230230e+04, -2.61606324e+03],\n",
       "       [-9.90562383e+02,  2.69909253e+03],\n",
       "       [ 5.82673610e+03, -5.80189350e+03],\n",
       "       [-3.44385418e+03, -1.42667577e+03],\n",
       "       [-1.34240704e+03, -5.80865897e+03],\n",
       "       [ 7.40073490e+03, -6.65493730e+03],\n",
       "       [-4.96207224e+03, -3.22215566e+03],\n",
       "       [ 3.05463814e+03,  6.69744592e+03],\n",
       "       [ 8.71594284e+03,  2.06977228e+03],\n",
       "       [ 8.68931792e+03, -1.77054726e+03],\n",
       "       [-3.25069953e+03, -9.12391005e+03],\n",
       "       [-1.44881311e+03, -5.04566121e+03],\n",
       "       [ 1.20560970e+04,  2.04091136e+03]])"
      ]
     },
     "execution_count": 76,
     "metadata": {},
     "output_type": "execute_result"
    }
   ],
   "source": [
    "# Your code here:\n",
    "\n",
    "np.dot(concatst.T, pca.transform(concatst))"
   ]
  },
  {
   "cell_type": "markdown",
   "metadata": {},
   "source": [
    "# Challenge 3 - Plotting the Data\n",
    "\n",
    "Now that we have reduced our cats and dogs arrays, we can easily plot the data in a way that the human eye can understand. We can look at this plot to see whether there are differences between the cat and dog images. \n",
    "\n",
    "In the cell below, turn the two dimensional projection into a pandas dataframe and name the columns `pc1`, and `pc2` respectively."
   ]
  },
  {
   "cell_type": "code",
   "execution_count": 159,
   "metadata": {},
   "outputs": [],
   "source": [
    "# Your code here:\n",
    "\n",
    "img = pd.DataFrame(np.dot(concatst.T, pca.transform(concatst)), columns=['pc1', 'pc2'])\n",
    "# img = pd.DataFrame(pca.transform(concatst), columns=['pc1', 'pc2'])"
   ]
  },
  {
   "cell_type": "code",
   "execution_count": 160,
   "metadata": {},
   "outputs": [
    {
     "data": {
      "text/html": [
       "<div>\n",
       "<style scoped>\n",
       "    .dataframe tbody tr th:only-of-type {\n",
       "        vertical-align: middle;\n",
       "    }\n",
       "\n",
       "    .dataframe tbody tr th {\n",
       "        vertical-align: top;\n",
       "    }\n",
       "\n",
       "    .dataframe thead th {\n",
       "        text-align: right;\n",
       "    }\n",
       "</style>\n",
       "<table border=\"1\" class=\"dataframe\">\n",
       "  <thead>\n",
       "    <tr style=\"text-align: right;\">\n",
       "      <th></th>\n",
       "      <th>pc1</th>\n",
       "      <th>pc2</th>\n",
       "    </tr>\n",
       "  </thead>\n",
       "  <tbody>\n",
       "    <tr>\n",
       "      <th>0</th>\n",
       "      <td>-5288.221779</td>\n",
       "      <td>-3846.214337</td>\n",
       "    </tr>\n",
       "    <tr>\n",
       "      <th>1</th>\n",
       "      <td>-16785.395569</td>\n",
       "      <td>-276.009491</td>\n",
       "    </tr>\n",
       "    <tr>\n",
       "      <th>2</th>\n",
       "      <td>16270.010043</td>\n",
       "      <td>-1015.145171</td>\n",
       "    </tr>\n",
       "    <tr>\n",
       "      <th>3</th>\n",
       "      <td>13851.789389</td>\n",
       "      <td>361.367994</td>\n",
       "    </tr>\n",
       "    <tr>\n",
       "      <th>4</th>\n",
       "      <td>-10194.477027</td>\n",
       "      <td>-4735.157346</td>\n",
       "    </tr>\n",
       "    <tr>\n",
       "      <th>...</th>\n",
       "      <td>...</td>\n",
       "      <td>...</td>\n",
       "    </tr>\n",
       "    <tr>\n",
       "      <th>155</th>\n",
       "      <td>13467.537850</td>\n",
       "      <td>-1589.174026</td>\n",
       "    </tr>\n",
       "    <tr>\n",
       "      <th>156</th>\n",
       "      <td>11225.062551</td>\n",
       "      <td>2345.059612</td>\n",
       "    </tr>\n",
       "    <tr>\n",
       "      <th>157</th>\n",
       "      <td>-2797.495372</td>\n",
       "      <td>9367.548806</td>\n",
       "    </tr>\n",
       "    <tr>\n",
       "      <th>158</th>\n",
       "      <td>-1132.223181</td>\n",
       "      <td>8977.378717</td>\n",
       "    </tr>\n",
       "    <tr>\n",
       "      <th>159</th>\n",
       "      <td>13177.997936</td>\n",
       "      <td>-724.346141</td>\n",
       "    </tr>\n",
       "  </tbody>\n",
       "</table>\n",
       "<p>160 rows × 2 columns</p>\n",
       "</div>"
      ],
      "text/plain": [
       "              pc1          pc2\n",
       "0    -5288.221779 -3846.214337\n",
       "1   -16785.395569  -276.009491\n",
       "2    16270.010043 -1015.145171\n",
       "3    13851.789389   361.367994\n",
       "4   -10194.477027 -4735.157346\n",
       "..            ...          ...\n",
       "155  13467.537850 -1589.174026\n",
       "156  11225.062551  2345.059612\n",
       "157  -2797.495372  9367.548806\n",
       "158  -1132.223181  8977.378717\n",
       "159  13177.997936  -724.346141\n",
       "\n",
       "[160 rows x 2 columns]"
      ]
     },
     "execution_count": 160,
     "metadata": {},
     "output_type": "execute_result"
    }
   ],
   "source": [
    "img"
   ]
  },
  {
   "cell_type": "markdown",
   "metadata": {},
   "source": [
    "Create a labels list. This list will be of size 160. The first 80 elements in the list will be the word `blue`, and the last 80 elements will be `red`. This will ensure that all dog observations will be colored in blue and all cats will be colored in red. Name this list `colors`."
   ]
  },
  {
   "cell_type": "code",
   "execution_count": 90,
   "metadata": {},
   "outputs": [
    {
     "name": "stdout",
     "output_type": "stream",
     "text": [
      "160\n",
      "['blue', 'blue', 'blue', 'blue', 'blue', 'blue', 'blue', 'blue', 'blue', 'blue', 'blue', 'blue', 'blue', 'blue', 'blue', 'blue', 'blue', 'blue', 'blue', 'blue', 'blue', 'blue', 'blue', 'blue', 'blue', 'blue', 'blue', 'blue', 'blue', 'blue', 'blue', 'blue', 'blue', 'blue', 'blue', 'blue', 'blue', 'blue', 'blue', 'blue', 'blue', 'blue', 'blue', 'blue', 'blue', 'blue', 'blue', 'blue', 'blue', 'blue', 'blue', 'blue', 'blue', 'blue', 'blue', 'blue', 'blue', 'blue', 'blue', 'blue', 'blue', 'blue', 'blue', 'blue', 'blue', 'blue', 'blue', 'blue', 'blue', 'blue', 'blue', 'blue', 'blue', 'blue', 'blue', 'blue', 'blue', 'blue', 'blue', 'blue', 'red', 'red', 'red', 'red', 'red', 'red', 'red', 'red', 'red', 'red', 'red', 'red', 'red', 'red', 'red', 'red', 'red', 'red', 'red', 'red', 'red', 'red', 'red', 'red', 'red', 'red', 'red', 'red', 'red', 'red', 'red', 'red', 'red', 'red', 'red', 'red', 'red', 'red', 'red', 'red', 'red', 'red', 'red', 'red', 'red', 'red', 'red', 'red', 'red', 'red', 'red', 'red', 'red', 'red', 'red', 'red', 'red', 'red', 'red', 'red', 'red', 'red', 'red', 'red', 'red', 'red', 'red', 'red', 'red', 'red', 'red', 'red', 'red', 'red', 'red', 'red', 'red', 'red', 'red', 'red']\n"
     ]
    }
   ],
   "source": [
    "# Your code here:\n",
    "\n",
    "colors = []\n",
    "[colors.append('blue') for x in range(80)]\n",
    "[colors.append('red') for x in range(80)]\n",
    "print(len(colors))\n",
    "print(colors)"
   ]
  },
  {
   "cell_type": "markdown",
   "metadata": {},
   "source": [
    "Create a scatter plot of `pc1` and `pc2` below. Use the `colors` list above to color the observations by setting `c=colors`."
   ]
  },
  {
   "cell_type": "code",
   "execution_count": 161,
   "metadata": {},
   "outputs": [
    {
     "data": {
      "text/plain": [
       "<matplotlib.collections.PathCollection at 0x7fcc903e06d0>"
      ]
     },
     "execution_count": 161,
     "metadata": {},
     "output_type": "execute_result"
    },
    {
     "data": {
      "image/png": "[encoded data removed]",
      "text/plain": [
       "<Figure size 432x288 with 1 Axes>"
      ]
     },
     "metadata": {
      "needs_background": "light"
     },
     "output_type": "display_data"
    }
   ],
   "source": [
    "plt.scatter(data=img, x='pc1', y='pc2', c=colors)"
   ]
  },
  {
   "cell_type": "markdown",
   "metadata": {},
   "source": [
    "Do you see a clear separation between cats and dogs? Write your answer below."
   ]
  },
  {
   "cell_type": "raw",
   "metadata": {},
   "source": [
    "Vemos que hay cierta diferenciación entre ambos, pero todavía hay muchas observaciones demasiado juntas, no queda demasiado clara la separación."
   ]
  }
 ],
 "metadata": {
  "kernelspec": {
   "display_name": "Python 3",
   "language": "python",
   "name": "python3"
  },
  "language_info": {
   "codemirror_mode": {
    "name": "ipython",
    "version": 3
   },
   "file_extension": ".py",
   "mimetype": "text/x-python",
   "name": "python",
   "nbconvert_exporter": "python",
   "pygments_lexer": "ipython3",
   "version": "3.8.5"
  },
  "toc": {
   "base_numbering": 1,
   "nav_menu": {},
   "number_sections": true,
   "sideBar": true,
   "skip_h1_title": false,
   "title_cell": "Table of Contents",
   "title_sidebar": "Contents",
   "toc_cell": false,
   "toc_position": {},
   "toc_section_display": true,
   "toc_window_display": true
  },
  "varInspector": {
   "cols": {
    "lenName": 16,
    "lenType": 16,
    "lenVar": 40
   },
   "kernels_config": {
    "python": {
     "delete_cmd_postfix": "",
     "delete_cmd_prefix": "del ",
     "library": "var_list.py",
     "varRefreshCmd": "print(var_dic_list())"
    },
    "r": {
     "delete_cmd_postfix": ") ",
     "delete_cmd_prefix": "rm(",
     "library": "var_list.r",
     "varRefreshCmd": "cat(var_dic_list()) "
    }
   },
   "types_to_exclude": [
    "module",
    "function",
    "builtin_function_or_method",
    "instance",
    "_Feature"
   ],
   "window_display": false
  }
 },
 "nbformat": 4,
 "nbformat_minor": 2
}
